{
 "cells": [
  {
   "cell_type": "markdown",
   "metadata": {
    "id": "O-uDABaLSwuD"
   },
   "source": [
    "# ***Projeto de Criptografia e Descriptografia em Python***\n",
    "\n",
    "\n",
    "\n"
   ]
  },
  {
   "cell_type": "markdown",
   "metadata": {
    "id": "qrLrElMtUGoP"
   },
   "source": [
    "## **Resumo do Projeto**\n",
    "\n",
    "Neste projeto, desenvolvemos um programa de criptografia e descriptografia em Python que utiliza a cifra de Vigenère e a cifra de Cézar juntas. Após tentar construir a cifra de Cézar e ver limitações nela, decidimos partir para a cifra de Vigenère e também achamos limitações, sendo assim, decidimos juntar as duas em um mesmo código.\n"
   ]
  },
  {
   "cell_type": "markdown",
   "metadata": {
    "id": "FOy65oDXnupv"
   },
   "source": [
    "## **Integrantes do grupo:**\n",
    "\n",
    "Andrew Alaniz; Caio Miazzi; Christiany Belini; Kely Murta; Letícia Costa."
   ]
  },
  {
   "cell_type": "markdown",
   "metadata": {
    "id": "Kjx38pLfdm5b"
   },
   "source": [
    "## **Dificuldades enfrentadas**\n",
    "\n",
    "* Compreensão do problema: Tabela ASCII\n",
    "* Len: chave e mensagem\n",
    "* Caracteres especiais\n",
    "\n",
    "## **Aplicação de conteúdos**\n",
    "\n",
    "*   Strings, funções de strings e suas peculiaridades, condicionais, loops, operações lógicas\n",
    "*   Trabalho em equipe, coesão do grupo e sincronia\n"
   ]
  },
  {
   "cell_type": "markdown",
   "metadata": {
    "id": "_4NudwDwTY2_"
   },
   "source": [
    "## **Funcionalidades do Programa**\n",
    "\n",
    "O programa oferece as seguintes funcionalidades:\n",
    "\n",
    "1. **Criptografia**: Permite ao usuário inserir uma mensagem e uma chave para criptografar a mensagem. A mensagem é convertida em uma série de números com base na tabela de caracteres personalizada e, em seguida, realiza uma operação de soma com a chave para criar a mensagem criptografada.\n",
    "\n",
    "2. **Descriptografia**: Permite ao usuário inserir uma mensagem criptografada e a chave correspondente para descriptografar a mensagem. O processo reverso é aplicado, onde a chave é subtraída da mensagem criptografada para obter a mensagem original.\n",
    "\n",
    "3. **Saída do Programa**: O programa permite ao usuário sair a qualquer momento.\n",
    "\n"
   ]
  },
  {
   "cell_type": "markdown",
   "metadata": {
    "id": "YZ9arSH7Ulux"
   },
   "source": [
    "## **Cifra de Vigenère**\n",
    "\n",
    "A cifra de Vigenère é um método de criptografia polialfabética que utiliza uma chave para cifrar mensagens. Em vez de substituir cada letra individualmente, como na cifra de César, a cifra de Vigenère aplica diferentes deslocamentos ao longo da mensagem, dependendo da chave. Isso torna a criptografia mais segura e difícil de ser quebrada.\n"
   ]
  },
  {
   "cell_type": "markdown",
   "metadata": {
    "id": "TrSYRF4pUrBd"
   },
   "source": [
    "## **Substituição da Tabela ASCII**\n",
    "\n",
    "No contexto deste projeto, substituímos a tabela ASCII padrão por uma tabela de caracteres personalizada. Essa abordagem assegura que a criptografia se limite aos caracteres do idioma português e ao teclado, garantindo que a comunicação seja mais adequada e educativa.\n"
   ]
  },
  {
   "cell_type": "markdown",
   "metadata": {
    "id": "3ROsObi6WFIK"
   },
   "source": [
    "## **Documentação das Funções**\n",
    "\n",
    "Aqui estão as funções essenciais do programa:\n"
   ]
  },
  {
   "cell_type": "markdown",
   "metadata": {
    "id": "v3WeuDXVWOJL"
   },
   "source": [
    "### `ord_caseiro(caractere: str) -> int`\n",
    "\n",
    "Esta função recebe um caractere como entrada e retorna o valor numérico associado a esse caractere na tabela de caracteres personalizada. Caso o caractere não esteja presente na tabela, é exibida uma mensagem de erro.\n"
   ]
  },
  {
   "cell_type": "code",
   "execution_count": null,
   "metadata": {
    "id": "hyzjFD0LaFvx"
   },
   "outputs": [],
   "source": [
    "ASC_caseiro = 'ABCDEFGHIJKLMNOPQRSTUVWXYZabcdefghijklmnopqrstuvwxyz0123456789!@$%^&*()-_+=[]{}|\\\\;:\\\",.<>/?áàâãéêíóôõúçÁÀÂÃÉÊÍÓÔÕÚÇªº§¹²³£¢¬ ' #124 caracteres\n",
    "\n",
    "def ord_caseiro(caractere: str) -> int:\n",
    "    if caractere in ASC_caseiro:\n",
    "        return ASC_caseiro.index(caractere) + 1\n",
    "    else:\n",
    "        print('Este caractere não existe na língua portuguesa.')"
   ]
  },
  {
   "cell_type": "markdown",
   "metadata": {
    "id": "tulgHg42aSjl"
   },
   "source": [
    "### `chr_caseiro(num: int) -> str`\n",
    "\n",
    "Esta função recebe um número como entrada e retorna o caractere associado a esse número na tabela de caracteres personalizada. Se o número estiver fora do intervalo esperado, a função realiza um ajuste circular para encontrar o caractere correspondente.\n"
   ]
  },
  {
   "cell_type": "code",
   "execution_count": null,
   "metadata": {
    "id": "VYFwmJy9aWoj"
   },
   "outputs": [],
   "source": [
    "def chr_caseiro(num: int) -> str:\n",
    "    if 1 <= num <= len(ASC_caseiro):\n",
    "        return ASC_caseiro[num - 1]\n",
    "    else:\n",
    "        while num < 1:\n",
    "            num += len(ASC_caseiro)\n",
    "        while num > len(ASC_caseiro):\n",
    "            num -= len(ASC_caseiro)\n",
    "        return ASC_caseiro[num - 1]\n"
   ]
  },
  {
   "cell_type": "markdown",
   "metadata": {
    "id": "Lb2gsr_GaY_-"
   },
   "source": [
    "### `igualando_listas(lista1, lista2)`\n",
    "\n",
    "Esta função é usada para igualar o tamanho de duas listas, preenchendo a lista mais curta com elementos repetidos da lista original até que ambas tenham o mesmo tamanho.\n"
   ]
  },
  {
   "cell_type": "code",
   "execution_count": null,
   "metadata": {
    "id": "2iOmZ8pNablW"
   },
   "outputs": [],
   "source": [
    "#Função para igualar listas\n",
    "def igualando_listas(lista1, lista2):\n",
    "    tamanho = max(len(lista1), len(lista2))\n",
    "    contador1 = 0\n",
    "    contador2 = 0\n",
    "    while len(lista1) < tamanho:\n",
    "        lista1.append(lista1[contador1])\n",
    "        contador1 += 1\n",
    "    while len(lista2) < tamanho:\n",
    "        lista2.append(lista2[contador2])\n",
    "        contador2 += 1\n",
    "    return lista1, lista2"
   ]
  },
  {
   "cell_type": "markdown",
   "metadata": {
    "id": "Zst_RyYKafqQ"
   },
   "source": [
    "### `string_int_lista(msg_lista, chave_lista: list) -> list`\n",
    "\n",
    "Esta função recebe duas listas de caracteres (mensagem e chave) e retorna duas listas de inteiros, onde cada caractere é convertido para o seu valor na tabela de caracteres personalizada.\n"
   ]
  },
  {
   "cell_type": "code",
   "execution_count": null,
   "metadata": {
    "id": "7jJLEuX0agbC"
   },
   "outputs": [],
   "source": [
    "# Função para transformar os caracteres da lista em numeros baseado na ASC_caseiro\n",
    "def string_int_lista(msg_lista, chave_lista: list) -> list:\n",
    "  msg_lista_ord = []\n",
    "  chave_lista_ord = []\n",
    "\n",
    "  for item in msg_lista: #ASCII\n",
    "    msg_lista_ord.append(ord_caseiro(item))\n",
    "  for item2 in chave_lista:\n",
    "    chave_lista_ord.append(ord_caseiro(item2))\n",
    "  return msg_lista_ord, chave_lista_ord"
   ]
  },
  {
   "cell_type": "markdown",
   "metadata": {
    "id": "kBHUsHl2axc2"
   },
   "source": [
    "### `converter_valores_para_caracteres(lista: list) -> str`\n",
    "\n",
    "Esta função recebe uma lista de inteiros e retorna uma string, onde cada inteiro é convertido de volta para seu caractere correspondente na tabela de caracteres personalizada.\n"
   ]
  },
  {
   "cell_type": "code",
   "execution_count": null,
   "metadata": {
    "id": "jwy68ZuOa3SX"
   },
   "outputs": [],
   "source": [
    "def converter_valores_para_caracteres(lista: list) -> str:\n",
    "    lista_descriptografada = []\n",
    "    for item in lista:\n",
    "        lista_descriptografada.append(chr_caseiro(item))\n",
    "    msg_descritografada = ''.join(lista_descriptografada)\n",
    "    return msg_descritografada"
   ]
  },
  {
   "cell_type": "markdown",
   "metadata": {
    "id": "CyTeN-qcxwFj"
   },
   "source": [
    "### `operacao_elementos(lista1, lista2, operacao) -> list`\n",
    "\n",
    "Esta função realiza uma operação (adição ou subtração) entre os elementos de duas listas e retorna uma nova lista com o resultado. A operação é determinada pelo argumento \"operacao\"."
   ]
  },
  {
   "cell_type": "code",
   "execution_count": null,
   "metadata": {
    "id": "2w1o_wIKxxFA"
   },
   "outputs": [],
   "source": [
    "def operacao_elementos(lista1, lista2, operacao) -> list:\n",
    "    resultado = []\n",
    "    for i in range(len(lista1)):\n",
    "        if operacao == '+':\n",
    "            resultado.append(lista1[i] + lista2[i])\n",
    "        elif operacao == '-':\n",
    "            resultado.append(lista1[i] - lista2[i])\n",
    "        else:\n",
    "            print('Operação não suportada')\n",
    "            return None\n",
    "    return resultado"
   ]
  },
  {
   "cell_type": "markdown",
   "metadata": {
    "id": "ZAqJKF1Fa36o"
   },
   "source": [
    "### `criptografia_vigenere(msg, chave: str) -> str`\n",
    "\n",
    "Esta função realiza a criptografia de uma mensagem utilizando a cifra de Vigenère. Recebe a mensagem e a chave como entrada, converte-as em listas de inteiros com base na tabela de caracteres personalizada, realiza a cifragem e retorna a mensagem criptografada.\n"
   ]
  },
  {
   "cell_type": "code",
   "execution_count": null,
   "metadata": {
    "id": "lTjSBht0a6ba"
   },
   "outputs": [],
   "source": [
    "def criptografia_vigenere(msg, chave: str) -> str:\n",
    "  msg_lista = list(msg)\n",
    "  chave_lista = list(chave)\n",
    "  igualando_listas(msg_lista, chave_lista)\n",
    "\n",
    "  msg_lista_ord, chave_lista_ord = string_int_lista(msg_lista, chave_lista)\n",
    "\n",
    "  lista_soma_msg_chave_ord = operacao_elementos(msg_lista_ord, chave_lista_ord, '+')\n",
    "\n",
    "  msg_critografada = converter_valores_para_caracteres(lista_soma_msg_chave_ord)\n",
    "\n",
    "  return msg_critografada"
   ]
  },
  {
   "cell_type": "markdown",
   "metadata": {
    "id": "AC1flldxa9r8"
   },
   "source": [
    "### `descriptografia_vigenere(msg, chave: str) -> str`\n",
    "\n",
    "Esta função realiza a descriptografia de uma mensagem criptografada utilizando a cifra de Vigenère. Recebe a mensagem criptografada e a chave correspondente como entrada, converte-as em listas de inteiros com base na tabela de caracteres personalizada, realiza a decifragem e retorna a mensagem descriptografada.\n"
   ]
  },
  {
   "cell_type": "code",
   "execution_count": null,
   "metadata": {
    "id": "L2D5eKuVbAlT"
   },
   "outputs": [],
   "source": [
    "def descriptografia_vigenere(msg, chave: str) -> str:\n",
    "  msg_lista = list(msg)\n",
    "  chave_lista = list(chave)\n",
    "  igualando_listas(msg_lista, chave_lista)\n",
    "\n",
    "  msg_lista_ord, chave_lista_ord = string_int_lista(msg_lista, chave_lista)\n",
    "\n",
    "  lista_diferenca_msg_chave_ord = operacao_elementos(msg_lista_ord, chave_lista_ord, '-')\n",
    "\n",
    "  msg_descritografada = converter_valores_para_caracteres(lista_diferenca_msg_chave_ord)\n",
    "\n",
    "  return msg_descritografada\n"
   ]
  },
  {
   "cell_type": "code",
   "execution_count": null,
   "metadata": {
    "id": "4opMgpXPNB8m"
   },
   "outputs": [],
   "source": []
  },
  {
   "cell_type": "markdown",
   "metadata": {
    "id": "hiUGPNqwNC_-"
   },
   "source": [
    "##**Cifra de Cézar**"
   ]
  },
  {
   "cell_type": "markdown",
   "metadata": {
    "id": "ZOFFVgBmO3Eb"
   },
   "source": [
    "A cifra de César é um tipo simples de cifra de substituições em que cada letra em um texto é derivada de outra letra que está localizada um número fixo de posições à frente no alfabeto. A chave vai resultar em um número inteiro que determina o deslocamento no alfabeto. Por exemplo, se a chave for 3, isso significa que cada letra será deslocada 3 posições."
   ]
  },
  {
   "cell_type": "markdown",
   "metadata": {
    "id": "4RxW-cEXRlhA"
   },
   "source": [
    "## **Documentação das Funções**"
   ]
  },
  {
   "cell_type": "markdown",
   "metadata": {
    "id": "mYlKYNFkRt-h"
   },
   "source": [
    "### `cifra_de_cesar(texto, chave)`\n",
    "\n",
    "Para cada caractere na mensagem de entrada essa função verifica se o caractere é uma letra do alfabeto. Se for, ela converte a letra para minúsculas (para garantir que as letras secretas e minúsculas sejam tratadas da mesma maneira), calcula a posição da letra no alfabeto com base na chave e no caractere correspondente na chave e realiza a criptografia, ajustando o caractere criptografado para manter o caso (maiúsculo/minúsculo) original. Se o caractere não for uma letra, ele será adicionado à mensagem criptografada sem alterações."
   ]
  },
  {
   "cell_type": "code",
   "execution_count": null,
   "metadata": {
    "id": "IT8zU0DkNCCo"
   },
   "outputs": [],
   "source": [
    "def cifra_de_cesar(texto, chave):\n",
    "    mensagem_criptografada = \"\"\n",
    "    resultado = \"\"\n",
    "    for char in chave:\n",
    "        resultado += str(ord(char))\n",
    "    chave = int(resultado)\n",
    "    print(chave)\n",
    "\n",
    "    for caractere in texto:\n",
    "        if caractere.isalpha():\n",
    "            maiuscula = caractere.isupper()\n",
    "            caractere = caractere.lower()\n",
    "            codigo = ord(caractere) - ord('a')\n",
    "            codigo_criptografado = (codigo + chave) % 26\n",
    "            caractere_criptografado = chr(codigo_criptografado + ord('a'))\n",
    "\n",
    "            if maiuscula:\n",
    "                caractere_criptografado = caractere_criptografado.upper()\n",
    "\n",
    "            mensagem_criptografada += caractere_criptografado\n",
    "\n",
    "        else:\n",
    "            mensagem_criptografada += caractere\n",
    "\n",
    "    return mensagem_criptografada"
   ]
  },
  {
   "cell_type": "markdown",
   "metadata": {
    "id": "7M4jWptgVD11"
   },
   "source": [
    "### `decifra_de_cesar(mensagem_cifrada, chave)`\n",
    "\n",
    "Essa função começa ajustando a chave para o tamanho da mensagem criptografada usando a função ajustar_tamanho_chave, descrita acima. Para cada caractere da mensagem criptografada ela verifica se o caractere é uma letra do alfabeto. Se for, converte para minúscula e calcula a posição reversa para desfazer a criptografia, levando em consideração a chave, e realiza a descritografia ajustando o caractere descritografado para manter o caso (maiúsculo/minúsculo) original. Se o caractere não for uma letra, ele é adicionado à mensagem sem alterações."
   ]
  },
  {
   "cell_type": "code",
   "execution_count": null,
   "metadata": {
    "id": "vhC8YMZKNCE5"
   },
   "outputs": [],
   "source": [
    "def decifra_de_cesar(mensagem_cifrada, chave):\n",
    "    mensagem_decifrada = \"\"\n",
    "    resultado = \"\"\n",
    "    for char in chave:\n",
    "        resultado += str(ord(char))\n",
    "    chave = int(resultado)\n",
    "    print(chave)\n",
    "\n",
    "    for caractere in mensagem_cifrada:\n",
    "        if caractere.isalpha():\n",
    "            maiuscula = caractere.isupper()\n",
    "            caractere = caractere.lower()\n",
    "            codigo = ord(caractere) - ord('a')\n",
    "            codigo_decifrado = (codigo - chave) % 26\n",
    "            caractere_decifrado = chr(codigo_decifrado + ord('a'))\n",
    "\n",
    "            if maiuscula:\n",
    "                caractere_decifrado = caractere_decifrado.upper()\n",
    "            mensagem_decifrada += caractere_decifrado\n",
    "\n",
    "        else:\n",
    "            mensagem_decifrada += caractere\n",
    "\n",
    "    return mensagem_decifrada"
   ]
  },
  {
   "cell_type": "markdown",
   "metadata": {
    "id": "0if3ixMZbWzp"
   },
   "source": [
    "## **Menu**\n",
    "\n",
    "Por fim temos o menu do programa, que possibilita o usuario criptografar, descriptografar ou sair do programa."
   ]
  },
  {
   "cell_type": "code",
   "execution_count": null,
   "metadata": {
    "id": "oIXV07h2bxt3"
   },
   "outputs": [],
   "source": [
    "def menu():\n",
    "  while True:\n",
    "    print(\"Olá! Esse é o Projeto de Criptografia do Grupo 2 :)\")\n",
    "    print(\"Selecione a opção de cifra que deseja usar:\")\n",
    "    print(\"1 - Codificar mensagem com a Cifra de César\")\n",
    "    print(\"2 - Codificar mensagem com a Cifra de Vigenère\")\n",
    "    print(\"3 - Codificar mensagem com a Cifra de César e com a Cifra de Vigenère\")\n",
    "    print(\"4 - Sair\")\n",
    "\n",
    "    opcao = input(\"Opção: \")\n",
    "\n",
    "    if opcao == '1':\n",
    "      mensagem = input(\"Digite a mensagem a ser codificada: \")\n",
    "      chave = input(\"Digite a chave secreta: \")\n",
    "      mensagem_criptografada = cifra_de_cesar(mensagem, chave)\n",
    "      print(\"Mensagem codificada:\", mensagem_criptografada)\n",
    "      chave = input(\"Digite a chave secreta: \")\n",
    "      mensagem_descriptografada = decifra_de_cesar(mensagem_criptografada, chave)\n",
    "      print(\"Mensagem decodificada:\", mensagem_descriptografada)\n",
    "\n",
    "    elif opcao == '2':\n",
    "      mensagem = input(\"Digite a mensagem a ser codificada: \")\n",
    "      chave = input(\"Digite a chave secreta: \")\n",
    "      mensagem_criptografada = criptografia_vigenere(mensagem, chave)\n",
    "      print(\"Mensagem codificada:\", mensagem_criptografada)\n",
    "      chave = input(\"Digite a chave secreta: \")\n",
    "      mensagem_descriptografada = descriptografia_vigenere(mensagem_criptografada, chave)\n",
    "      print(\"Mensagem decodificada:\", mensagem_descriptografada)\n",
    "\n",
    "    elif opcao == '3':\n",
    "      mensagem = input(\"Digite a mensagem a ser codificada: \")\n",
    "      chave = input(\"Digite a chave secreta: \")\n",
    "      mensagem_criptografada = cifra_de_cesar(mensagem, chave)\n",
    "      print(\"Mensagem codificada - Cifra de César:\", mensagem_criptografada)\n",
    "\n",
    "      mensagem_criptografada = criptografia_vigenere(mensagem, chave)\n",
    "      print(\"Mensagem codificada - Cifra de Vigenère:\", mensagem_criptografada)\n",
    "\n",
    "      mensagem_descriptografada = descriptografia_vigenere(mensagem_criptografada, chave)\n",
    "      print(\"Mensagem decodificada - Cifra de Vigenère:\", mensagem_descriptografada)\n",
    "\n",
    "      mensagem_descriptografada = decifra_de_cesar(mensagem_descriptografada, chave)\n",
    "      print(\"Mensagem decodificada - Cifra de César:\\n)\", mensagem_descriptografada)\n",
    "\n",
    "    elif opcao == '4':\n",
    "      break\n",
    "    else:\n",
    "      print(\"Opção inválida. Tente novamente.\")"
   ]
  },
  {
   "cell_type": "markdown",
   "metadata": {
    "id": "0h5jBi4FbUO3"
   },
   "source": [
    "## **Código Final**\n",
    "\n",
    "Colocando as duas cifras para criptografar e descriptografar simultaneamente, temos:\n",
    "\n"
   ]
  },
  {
   "cell_type": "code",
   "execution_count": null,
   "metadata": {
    "colab": {
     "base_uri": "https://localhost:8080/"
    },
    "id": "aI6xa9jyts5z",
    "outputId": "8568b833-c5ae-45c1-efde-ae9b0ff54a05"
   },
   "outputs": [
    {
     "name": "stdout",
     "output_type": "stream",
     "text": [
      "\n",
      "Olá! Esse é o Projeto de Criptografia do Grupo 2!\n",
      "\n",
      "124\n",
      "\n",
      "Selecione a opção que deseja realizar:\n",
      "1 - Codificar mensagem com a Cifra de César\n",
      "2 - Codificar mensagem com a Cifra de Vigenère\n",
      "3 - Codificar mensagem com a Cifra de César e com a Cifra de Vigenère\n",
      "4 - Sair\n",
      "Opção: 1\n",
      "\n",
      "Digite a mensagem a ser codificada: ab\n",
      "Digite a chave secreta: ba\n",
      "Mensagem codificada: rs\n",
      "\n",
      "Para decodificar, digite a chave secreta: 1\n",
      "Mensagem decodificada: uv\n",
      "\n",
      "Selecione a opção que deseja realizar:\n",
      "1 - Codificar mensagem com a Cifra de César\n",
      "2 - Codificar mensagem com a Cifra de Vigenère\n",
      "3 - Codificar mensagem com a Cifra de César e com a Cifra de Vigenère\n",
      "4 - Sair\n",
      "Opção: Caio Miazzi\n",
      "Opção inválida. Tente novamente.\n",
      "\n",
      "Selecione a opção que deseja realizar:\n",
      "1 - Codificar mensagem com a Cifra de César\n",
      "2 - Codificar mensagem com a Cifra de Vigenère\n",
      "3 - Codificar mensagem com a Cifra de César e com a Cifra de Vigenère\n",
      "4 - Sair\n",
      "Opção: 1\n",
      "\n",
      "Digite a mensagem a ser codificada: Caio Miazzi\n",
      "Digite a chave secreta: chave\n",
      "Mensagem codificada: Xvdj Hdvuud\n",
      "\n",
      "Para decodificar, digite a chave secreta: chave\n",
      "Mensagem decodificada: Caio Miazzi\n",
      "\n",
      "Selecione a opção que deseja realizar:\n",
      "1 - Codificar mensagem com a Cifra de César\n",
      "2 - Codificar mensagem com a Cifra de Vigenère\n",
      "3 - Codificar mensagem com a Cifra de César e com a Cifra de Vigenère\n",
      "4 - Sair\n",
      "Opção: 4\n"
     ]
    }
   ],
   "source": [
    "ASC_caseiro = 'ABCDEFGHIJKLMNOPQRSTUVWXYZabcdefghijklmnopqrstuvwxyz0123456789!@$%^&*() \\\n",
    "-_+=[]{}|\\\\;:\\\",.<>/?áàâãéêíóôõúçÁÀÂÃÉÊÍÓÔÕÚÇªº§¹²³£¢¬ ' #124 caracteres\n",
    "\n",
    "print(\"\\nOlá! Esse é o Projeto de Criptografia do Grupo 2!\\n\")\n",
    "\n",
    "def menu():\n",
    "  while True:\n",
    "    print(\"\\nSelecione a opção que deseja realizar:\")\n",
    "    print(\"1 - Codificar mensagem com a Cifra de César\")\n",
    "    print(\"2 - Codificar mensagem com a Cifra de Vigenère\")\n",
    "    print(\"3 - Codificar mensagem com a Cifra de César e com a Cifra de Vigenère\")\n",
    "    print(\"4 - Sair\")\n",
    "\n",
    "    opcao = input(\"Opção: \")\n",
    "\n",
    "    if opcao == '1':\n",
    "      mensagem = input(\"\\nDigite a mensagem a ser codificada: \")\n",
    "      chave = input(\"Digite a chave secreta: \")\n",
    "      mensagem_criptografada = cifra_de_cesar(mensagem, chave)\n",
    "      print(\"Mensagem codificada:\", mensagem_criptografada)\n",
    "      chave = input(\"\\nPara decodificar, digite a chave secreta: \")\n",
    "      mensagem_descriptografada = decifra_de_cesar(mensagem_criptografada, chave)\n",
    "      print(\"Mensagem decodificada:\", mensagem_descriptografada)\n",
    "\n",
    "    elif opcao == '2':\n",
    "      mensagem = input(\"\\nDigite a mensagem a ser codificada: \")\n",
    "      chave = input(\"Digite a chave secreta: \")\n",
    "      mensagem_criptografada = criptografia_vigenere(mensagem, chave)\n",
    "      print(\"Mensagem codificada:\", mensagem_criptografada)\n",
    "      chave = input(\"\\nPara decodificar, digite a chave secreta: \")\n",
    "      mensagem_descriptografada = descriptografia_vigenere(mensagem_criptografada, chave)\n",
    "      print(\"Mensagem decodificada:\", mensagem_descriptografada)\n",
    "\n",
    "    elif opcao == '3':\n",
    "      mensagem = input(\"\\nDigite a mensagem a ser codificada: \")\n",
    "      chave = input(\"Digite a chave secreta: \")\n",
    "      mensagem_criptografada = cifra_de_cesar(mensagem, chave)\n",
    "      print(\"\\nMensagem Criptografada:\", mensagem_criptografada)\n",
    "      mensagem_criptografada = criptografia_vigenere(mensagem_criptografada, chave)\n",
    "      print(\"Mensagem Criptografada:\", mensagem_criptografada)\n",
    "      mensagem_decifrada = descriptografia_vigenere(mensagem_criptografada, chave)\n",
    "      print(\"Mensagem Decifrada:\", mensagem_decifrada)\n",
    "      mensagem_decifrada = decifra_de_cesar(mensagem_decifrada, chave)\n",
    "      print(\"Mensagem Decifrada:\", mensagem_decifrada)\n",
    "\n",
    "    elif opcao == '4':\n",
    "      break\n",
    "    else:\n",
    "      print(\"Opção inválida. Tente novamente.\")\n",
    "\n",
    "ASC_caseiro = 'ABCDEFGHIJKLMNOPQRSTUVWXYZabcdefghijklmnopqrstuvwxyz0123456789!@$%^&*()-_+=[]{}|\\\\;:\\\",.<>/?áàâãéêíóôõúçÁÀÂÃÉÊÍÓÔÕÚÇªº§¹²³£¢¬ ' #124 caracteres\n",
    "\n",
    "print(len(ASC_caseiro))\n",
    "def ord_caseiro(caractere: str) -> int:\n",
    "    if caractere in ASC_caseiro:\n",
    "        return ASC_caseiro.index(caractere) + 1\n",
    "    else:\n",
    "        print('Este caractere não existe na língua portuguesa.')\n",
    "\n",
    "def chr_caseiro(num: int) -> str:\n",
    "    if 1 <= num <= len(ASC_caseiro):\n",
    "        return ASC_caseiro[num - 1]\n",
    "    else:\n",
    "        while num < 1:\n",
    "            num += len(ASC_caseiro)\n",
    "        while num > len(ASC_caseiro):\n",
    "            num -= len(ASC_caseiro)\n",
    "        return ASC_caseiro[num - 1]\n",
    "\n",
    "#Função para igualar listas\n",
    "def igualando_listas(lista1, lista2):\n",
    "    tamanho = max(len(lista1), len(lista2))\n",
    "    contador1 = 0\n",
    "    contador2 = 0\n",
    "    while len(lista1) < tamanho:\n",
    "        lista1.append(lista1[contador1])\n",
    "        contador1 += 1\n",
    "    while len(lista2) < tamanho:\n",
    "        lista2.append(lista2[contador2])\n",
    "        contador2 += 1\n",
    "    return lista1, lista2\n",
    "\n",
    "# # Função para transformar os caracteres da lista em numeros baseado na ASC_caseiro\n",
    "def string_int_lista(msg_lista, chave_lista: list) -> list:\n",
    "  msg_lista_ord = []\n",
    "  chave_lista_ord = []\n",
    "\n",
    "  for item in msg_lista: #ASCII\n",
    "    msg_lista_ord.append(ord_caseiro(item))\n",
    "  for item2 in chave_lista:\n",
    "    chave_lista_ord.append(ord_caseiro(item2))\n",
    "\n",
    "\n",
    "# Criptografia\n",
    "def criptografia_vigenere(msg, chave): # Vigenere\n",
    "  msg_lista = list(msg)\n",
    "  chave_lista = list(chave)\n",
    "  igualando_listas(msg_lista, chave_lista)\n",
    "\n",
    "  msg_lista_ord = []\n",
    "  chave_lista_ord = []\n",
    "\n",
    "  for item in msg_lista: #ASCII\n",
    "    msg_lista_ord.append(ord_caseiro(item))\n",
    "  for item2 in chave_lista:\n",
    "    chave_lista_ord.append(ord_caseiro(item2))\n",
    "\n",
    "  lista_soma_msg_chave_ord = [] # soma dos elementos\n",
    "  for i in range(len(msg_lista_ord)): #C testar com o chave_lista_ord\n",
    "    lista_soma_msg_chave_ord.append(msg_lista_ord[i] + chave_lista_ord[i])\n",
    "\n",
    "  lista_criptografada = []\n",
    "  for item in lista_soma_msg_chave_ord:\n",
    "    lista_criptografada.append(chr_caseiro(item))\n",
    "\n",
    "  msg_critografada = ''.join(lista_criptografada)\n",
    "\n",
    "  return msg_critografada\n",
    "\n",
    "#Descriptografia\n",
    "def descriptografia_vigenere(msg, chave):\n",
    "  msg_lista = list(msg)\n",
    "  chave_lista = list(chave)\n",
    "  igualando_listas(msg_lista, chave_lista)\n",
    "\n",
    "  msg_lista_ord = []\n",
    "  chave_lista_ord = []\n",
    "\n",
    "  for item in msg_lista: #ASCII\n",
    "    msg_lista_ord.append(ord_caseiro(item))\n",
    "  for item2 in chave_lista:\n",
    "    chave_lista_ord.append(ord_caseiro(item2))\n",
    "\n",
    "  lista_diferenca_msg_chave_ord = [] # soma dos elementos\n",
    "  for i in range(len(msg_lista_ord)):\n",
    "    lista_diferenca_msg_chave_ord.append(msg_lista_ord[i] - chave_lista_ord[i])\n",
    "\n",
    "  lista_descriptografada = []\n",
    "  for item in lista_diferenca_msg_chave_ord:\n",
    "    lista_descriptografada.append(chr_caseiro(item))\n",
    "\n",
    "  msg_descritografada = ''.join(lista_descriptografada)\n",
    "\n",
    "  return msg_descritografada\n",
    "############################################################################################################################################\n",
    "############################################################################################################################################\n",
    "\n",
    "def cifra_de_cesar(texto, chave):\n",
    "    mensagem_criptografada = \"\"\n",
    "    resultado = \"\"\n",
    "    for char in chave:\n",
    "        resultado += str(ord(char))\n",
    "    chave = int(resultado)\n",
    "\n",
    "\n",
    "    for caractere in texto:\n",
    "        if caractere.isalpha():\n",
    "            maiuscula = caractere.isupper()\n",
    "            caractere = caractere.lower()\n",
    "            codigo = ord(caractere) - ord('a')\n",
    "            codigo_criptografado = (codigo + chave) % 26\n",
    "            caractere_criptografado = chr(codigo_criptografado + ord('a'))\n",
    "\n",
    "            if maiuscula:\n",
    "                caractere_criptografado = caractere_criptografado.upper()\n",
    "\n",
    "            mensagem_criptografada += caractere_criptografado\n",
    "\n",
    "        else:\n",
    "            mensagem_criptografada += caractere\n",
    "\n",
    "    return mensagem_criptografada\n",
    "\n",
    "def decifra_de_cesar(mensagem_cifrada, chave):\n",
    "    mensagem_decifrada = \"\"\n",
    "    resultado = \"\"\n",
    "    for char in chave:\n",
    "        resultado += str(ord(char))\n",
    "    chave = int(resultado)\n",
    "\n",
    "\n",
    "    for caractere in mensagem_cifrada:\n",
    "        if caractere.isalpha():\n",
    "            maiuscula = caractere.isupper()\n",
    "            caractere = caractere.lower()\n",
    "            codigo = ord(caractere) - ord('a')\n",
    "            codigo_decifrado = (codigo - chave) % 26\n",
    "            caractere_decifrado = chr(codigo_decifrado + ord('a'))\n",
    "\n",
    "            if maiuscula:\n",
    "                caractere_decifrado = caractere_decifrado.upper()\n",
    "            mensagem_decifrada += caractere_decifrado\n",
    "\n",
    "        else:\n",
    "            mensagem_decifrada += caractere\n",
    "\n",
    "    return mensagem_decifrada\n",
    "\n",
    "menu()"
   ]
  },
  {
   "cell_type": "markdown",
   "metadata": {
    "id": "kg_bW9r4B63q"
   },
   "source": [
    "## **Limitações**\n",
    "\n",
    "Esse código apresenta as seguintes limitações:\n",
    "- Palavras com acento não são descriptadas em sua grafia exata;\n",
    "- Na cifra de Vigenère, caso o usuário insira aspas simples ('') ou hashtag (#) o código não irá funcionar."
   ]
  },
  {
   "cell_type": "markdown",
   "metadata": {
    "id": "IJCg5gatbEql"
   },
   "source": [
    "## **Utilização do Programa**\n",
    "\n",
    "O programa oferece um menu interativo que permite ao usuário escolher entre criptografar, descriptografar ou sair do programa. O usuário pode inserir mensagens e chaves personalizadas e o programa fornecerá o resultado desejado.\n",
    "\n",
    "O código-fonte completo deste projeto estará disponível no GitHub e poderá ser acessado facilmente. Sinta-se à vontade para explorar, usar e compartilhar!\n"
   ]
  },
  {
   "cell_type": "code",
   "execution_count": null,
   "metadata": {
    "id": "HjUefRTMkUHA"
   },
   "outputs": [],
   "source": []
  }
 ],
 "metadata": {
  "colab": {
   "provenance": []
  },
  "kernelspec": {
   "display_name": "Python 3 (ipykernel)",
   "language": "python",
   "name": "python3"
  },
  "language_info": {
   "codemirror_mode": {
    "name": "ipython",
    "version": 3
   },
   "file_extension": ".py",
   "mimetype": "text/x-python",
   "name": "python",
   "nbconvert_exporter": "python",
   "pygments_lexer": "ipython3",
   "version": "3.11.5"
  }
 },
 "nbformat": 4,
 "nbformat_minor": 4
}
